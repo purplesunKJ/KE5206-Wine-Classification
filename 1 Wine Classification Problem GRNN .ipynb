{
 "cells": [
  {
   "cell_type": "code",
   "execution_count": 13,
   "metadata": {
    "collapsed": true
   },
   "outputs": [],
   "source": [
    "import numpy as np\n",
    "import pandas as pd\n",
    "from sklearn import preprocessing\n",
    "from sklearn.model_selection import train_test_split\n",
    "from sklearn.metrics import confusion_matrix, classification_report, accuracy_score, mean_squared_error\n",
    "import matplotlib.pyplot as plt\n",
    "from neupy import algorithms, environment\n",
    "%matplotlib inline"
   ]
  },
  {
   "cell_type": "code",
   "execution_count": 14,
   "metadata": {
    "collapsed": true
   },
   "outputs": [],
   "source": [
    "environment.reproducible()"
   ]
  },
  {
   "cell_type": "code",
   "execution_count": 15,
   "metadata": {
    "collapsed": true
   },
   "outputs": [],
   "source": [
    "df = pd.read_csv(\"winequality-white.csv\")"
   ]
  },
  {
   "cell_type": "code",
   "execution_count": 16,
   "metadata": {},
   "outputs": [
    {
     "data": {
      "text/html": [
       "<div>\n",
       "<table border=\"1\" class=\"dataframe\">\n",
       "  <thead>\n",
       "    <tr style=\"text-align: right;\">\n",
       "      <th></th>\n",
       "      <th>fixed acidity</th>\n",
       "      <th>volatile acidity</th>\n",
       "      <th>citric acid</th>\n",
       "      <th>residual sugar</th>\n",
       "      <th>chlorides</th>\n",
       "      <th>free sulfur dioxide</th>\n",
       "      <th>total sulfur dioxide</th>\n",
       "      <th>density</th>\n",
       "      <th>pH</th>\n",
       "      <th>sulphates</th>\n",
       "      <th>alcohol</th>\n",
       "      <th>quality</th>\n",
       "    </tr>\n",
       "  </thead>\n",
       "  <tbody>\n",
       "    <tr>\n",
       "      <th>0</th>\n",
       "      <td>7.0</td>\n",
       "      <td>0.27</td>\n",
       "      <td>0.36</td>\n",
       "      <td>20.7</td>\n",
       "      <td>0.045</td>\n",
       "      <td>45.0</td>\n",
       "      <td>170.0</td>\n",
       "      <td>1.0010</td>\n",
       "      <td>3.00</td>\n",
       "      <td>0.45</td>\n",
       "      <td>8.8</td>\n",
       "      <td>6</td>\n",
       "    </tr>\n",
       "    <tr>\n",
       "      <th>1</th>\n",
       "      <td>6.3</td>\n",
       "      <td>0.30</td>\n",
       "      <td>0.34</td>\n",
       "      <td>1.6</td>\n",
       "      <td>0.049</td>\n",
       "      <td>14.0</td>\n",
       "      <td>132.0</td>\n",
       "      <td>0.9940</td>\n",
       "      <td>3.30</td>\n",
       "      <td>0.49</td>\n",
       "      <td>9.5</td>\n",
       "      <td>6</td>\n",
       "    </tr>\n",
       "    <tr>\n",
       "      <th>2</th>\n",
       "      <td>8.1</td>\n",
       "      <td>0.28</td>\n",
       "      <td>0.40</td>\n",
       "      <td>6.9</td>\n",
       "      <td>0.050</td>\n",
       "      <td>30.0</td>\n",
       "      <td>97.0</td>\n",
       "      <td>0.9951</td>\n",
       "      <td>3.26</td>\n",
       "      <td>0.44</td>\n",
       "      <td>10.1</td>\n",
       "      <td>6</td>\n",
       "    </tr>\n",
       "    <tr>\n",
       "      <th>3</th>\n",
       "      <td>7.2</td>\n",
       "      <td>0.23</td>\n",
       "      <td>0.32</td>\n",
       "      <td>8.5</td>\n",
       "      <td>0.058</td>\n",
       "      <td>47.0</td>\n",
       "      <td>186.0</td>\n",
       "      <td>0.9956</td>\n",
       "      <td>3.19</td>\n",
       "      <td>0.40</td>\n",
       "      <td>9.9</td>\n",
       "      <td>6</td>\n",
       "    </tr>\n",
       "    <tr>\n",
       "      <th>4</th>\n",
       "      <td>7.2</td>\n",
       "      <td>0.23</td>\n",
       "      <td>0.32</td>\n",
       "      <td>8.5</td>\n",
       "      <td>0.058</td>\n",
       "      <td>47.0</td>\n",
       "      <td>186.0</td>\n",
       "      <td>0.9956</td>\n",
       "      <td>3.19</td>\n",
       "      <td>0.40</td>\n",
       "      <td>9.9</td>\n",
       "      <td>6</td>\n",
       "    </tr>\n",
       "  </tbody>\n",
       "</table>\n",
       "</div>"
      ],
      "text/plain": [
       "   fixed acidity  volatile acidity  citric acid  residual sugar  chlorides  \\\n",
       "0            7.0              0.27         0.36            20.7      0.045   \n",
       "1            6.3              0.30         0.34             1.6      0.049   \n",
       "2            8.1              0.28         0.40             6.9      0.050   \n",
       "3            7.2              0.23         0.32             8.5      0.058   \n",
       "4            7.2              0.23         0.32             8.5      0.058   \n",
       "\n",
       "   free sulfur dioxide  total sulfur dioxide  density    pH  sulphates  \\\n",
       "0                 45.0                 170.0   1.0010  3.00       0.45   \n",
       "1                 14.0                 132.0   0.9940  3.30       0.49   \n",
       "2                 30.0                  97.0   0.9951  3.26       0.44   \n",
       "3                 47.0                 186.0   0.9956  3.19       0.40   \n",
       "4                 47.0                 186.0   0.9956  3.19       0.40   \n",
       "\n",
       "   alcohol  quality  \n",
       "0      8.8        6  \n",
       "1      9.5        6  \n",
       "2     10.1        6  \n",
       "3      9.9        6  \n",
       "4      9.9        6  "
      ]
     },
     "execution_count": 16,
     "metadata": {},
     "output_type": "execute_result"
    }
   ],
   "source": [
    "df.head()"
   ]
  },
  {
   "cell_type": "code",
   "execution_count": 17,
   "metadata": {},
   "outputs": [
    {
     "data": {
      "text/plain": [
       "6    2198\n",
       "5    1457\n",
       "7     880\n",
       "8     175\n",
       "4     163\n",
       "3      20\n",
       "9       5\n",
       "Name: quality, dtype: int64"
      ]
     },
     "execution_count": 17,
     "metadata": {},
     "output_type": "execute_result"
    }
   ],
   "source": [
    "df['quality'].value_counts()"
   ]
  },
  {
   "cell_type": "code",
   "execution_count": 18,
   "metadata": {
    "collapsed": true
   },
   "outputs": [],
   "source": [
    "data = df.drop('quality',axis=1)\n",
    "target = df['quality']"
   ]
  },
  {
   "cell_type": "code",
   "execution_count": 19,
   "metadata": {
    "collapsed": true
   },
   "outputs": [],
   "source": [
    "data_scaler = preprocessing.MinMaxScaler((-20,20))"
   ]
  },
  {
   "cell_type": "code",
   "execution_count": 20,
   "metadata": {
    "collapsed": true
   },
   "outputs": [],
   "source": [
    "data = data_scaler.fit_transform(data)"
   ]
  },
  {
   "cell_type": "code",
   "execution_count": 22,
   "metadata": {},
   "outputs": [
    {
     "data": {
      "text/html": [
       "<div>\n",
       "<table border=\"1\" class=\"dataframe\">\n",
       "  <thead>\n",
       "    <tr style=\"text-align: right;\">\n",
       "      <th></th>\n",
       "      <th>0</th>\n",
       "      <th>1</th>\n",
       "      <th>2</th>\n",
       "      <th>3</th>\n",
       "      <th>4</th>\n",
       "      <th>5</th>\n",
       "      <th>6</th>\n",
       "      <th>7</th>\n",
       "      <th>8</th>\n",
       "      <th>9</th>\n",
       "      <th>10</th>\n",
       "    </tr>\n",
       "  </thead>\n",
       "  <tbody>\n",
       "    <tr>\n",
       "      <th>count</th>\n",
       "      <td>4898.000000</td>\n",
       "      <td>4898.000000</td>\n",
       "      <td>4898.000000</td>\n",
       "      <td>4898.000000</td>\n",
       "      <td>4898.000000</td>\n",
       "      <td>4898.000000</td>\n",
       "      <td>4898.000000</td>\n",
       "      <td>4898.000000</td>\n",
       "      <td>4898.000000</td>\n",
       "      <td>4898.000000</td>\n",
       "      <td>4898.000000</td>\n",
       "    </tr>\n",
       "    <tr>\n",
       "      <th>mean</th>\n",
       "      <td>-8.250817</td>\n",
       "      <td>-12.225838</td>\n",
       "      <td>-11.947193</td>\n",
       "      <td>-16.446985</td>\n",
       "      <td>-15.635329</td>\n",
       "      <td>-15.357758</td>\n",
       "      <td>-7.994371</td>\n",
       "      <td>-14.665605</td>\n",
       "      <td>-2.972122</td>\n",
       "      <td>-7.448982</td>\n",
       "      <td>-3.778922</td>\n",
       "    </tr>\n",
       "    <tr>\n",
       "      <th>std</th>\n",
       "      <td>3.245647</td>\n",
       "      <td>3.952727</td>\n",
       "      <td>2.916140</td>\n",
       "      <td>3.111692</td>\n",
       "      <td>2.593231</td>\n",
       "      <td>2.370333</td>\n",
       "      <td>3.944136</td>\n",
       "      <td>2.306464</td>\n",
       "      <td>5.490931</td>\n",
       "      <td>5.308178</td>\n",
       "      <td>7.939488</td>\n",
       "    </tr>\n",
       "    <tr>\n",
       "      <th>min</th>\n",
       "      <td>-20.000000</td>\n",
       "      <td>-20.000000</td>\n",
       "      <td>-20.000000</td>\n",
       "      <td>-20.000000</td>\n",
       "      <td>-20.000000</td>\n",
       "      <td>-20.000000</td>\n",
       "      <td>-20.000000</td>\n",
       "      <td>-20.000000</td>\n",
       "      <td>-20.000000</td>\n",
       "      <td>-20.000000</td>\n",
       "      <td>-20.000000</td>\n",
       "    </tr>\n",
       "    <tr>\n",
       "      <th>25%</th>\n",
       "      <td>-10.384615</td>\n",
       "      <td>-14.901961</td>\n",
       "      <td>-13.493976</td>\n",
       "      <td>-19.325153</td>\n",
       "      <td>-16.795252</td>\n",
       "      <td>-17.073171</td>\n",
       "      <td>-10.812065</td>\n",
       "      <td>-16.443031</td>\n",
       "      <td>-6.545455</td>\n",
       "      <td>-11.162791</td>\n",
       "      <td>-10.322581</td>\n",
       "    </tr>\n",
       "    <tr>\n",
       "      <th>50%</th>\n",
       "      <td>-8.461538</td>\n",
       "      <td>-12.941176</td>\n",
       "      <td>-12.289157</td>\n",
       "      <td>-17.177914</td>\n",
       "      <td>-15.964392</td>\n",
       "      <td>-15.540070</td>\n",
       "      <td>-8.399072</td>\n",
       "      <td>-14.887218</td>\n",
       "      <td>-3.272727</td>\n",
       "      <td>-8.372093</td>\n",
       "      <td>-4.516129</td>\n",
       "    </tr>\n",
       "    <tr>\n",
       "      <th>75%</th>\n",
       "      <td>-6.538462</td>\n",
       "      <td>-10.588235</td>\n",
       "      <td>-10.602410</td>\n",
       "      <td>-14.294479</td>\n",
       "      <td>-15.133531</td>\n",
       "      <td>-13.867596</td>\n",
       "      <td>-5.336427</td>\n",
       "      <td>-13.067284</td>\n",
       "      <td>0.363636</td>\n",
       "      <td>-4.651163</td>\n",
       "      <td>1.935484</td>\n",
       "    </tr>\n",
       "    <tr>\n",
       "      <th>max</th>\n",
       "      <td>20.000000</td>\n",
       "      <td>20.000000</td>\n",
       "      <td>20.000000</td>\n",
       "      <td>20.000000</td>\n",
       "      <td>20.000000</td>\n",
       "      <td>20.000000</td>\n",
       "      <td>20.000000</td>\n",
       "      <td>20.000000</td>\n",
       "      <td>20.000000</td>\n",
       "      <td>20.000000</td>\n",
       "      <td>20.000000</td>\n",
       "    </tr>\n",
       "  </tbody>\n",
       "</table>\n",
       "</div>"
      ],
      "text/plain": [
       "                0            1            2            3            4   \\\n",
       "count  4898.000000  4898.000000  4898.000000  4898.000000  4898.000000   \n",
       "mean     -8.250817   -12.225838   -11.947193   -16.446985   -15.635329   \n",
       "std       3.245647     3.952727     2.916140     3.111692     2.593231   \n",
       "min     -20.000000   -20.000000   -20.000000   -20.000000   -20.000000   \n",
       "25%     -10.384615   -14.901961   -13.493976   -19.325153   -16.795252   \n",
       "50%      -8.461538   -12.941176   -12.289157   -17.177914   -15.964392   \n",
       "75%      -6.538462   -10.588235   -10.602410   -14.294479   -15.133531   \n",
       "max      20.000000    20.000000    20.000000    20.000000    20.000000   \n",
       "\n",
       "                5            6            7            8            9   \\\n",
       "count  4898.000000  4898.000000  4898.000000  4898.000000  4898.000000   \n",
       "mean    -15.357758    -7.994371   -14.665605    -2.972122    -7.448982   \n",
       "std       2.370333     3.944136     2.306464     5.490931     5.308178   \n",
       "min     -20.000000   -20.000000   -20.000000   -20.000000   -20.000000   \n",
       "25%     -17.073171   -10.812065   -16.443031    -6.545455   -11.162791   \n",
       "50%     -15.540070    -8.399072   -14.887218    -3.272727    -8.372093   \n",
       "75%     -13.867596    -5.336427   -13.067284     0.363636    -4.651163   \n",
       "max      20.000000    20.000000    20.000000    20.000000    20.000000   \n",
       "\n",
       "                10  \n",
       "count  4898.000000  \n",
       "mean     -3.778922  \n",
       "std       7.939488  \n",
       "min     -20.000000  \n",
       "25%     -10.322581  \n",
       "50%      -4.516129  \n",
       "75%       1.935484  \n",
       "max      20.000000  "
      ]
     },
     "execution_count": 22,
     "metadata": {},
     "output_type": "execute_result"
    }
   ],
   "source": [
    "pd.DataFrame(data).describe()"
   ]
  },
  {
   "cell_type": "code",
   "execution_count": 23,
   "metadata": {
    "collapsed": true
   },
   "outputs": [],
   "source": [
    "x_train, x_test, y_train, y_test = train_test_split( data, target, train_size=0.75, random_state = 123)"
   ]
  },
  {
   "cell_type": "code",
   "execution_count": 96,
   "metadata": {},
   "outputs": [
    {
     "name": "stdout",
     "output_type": "stream",
     "text": [
      "\n",
      "Main information\n",
      "\n",
      "[ALGORITHM] GRNN\n",
      "\r\n",
      "[OPTION] verbose = True\n",
      "[OPTION] epoch_end_signal = None\n",
      "[OPTION] show_epoch = 1\n",
      "[OPTION] shuffle_data = False\n",
      "[OPTION] step = 0.001\n",
      "[OPTION] train_end_signal = None\n",
      "[OPTION] std = 1\n",
      "\r\n"
     ]
    }
   ],
   "source": [
    "grnnet = algorithms.GRNN(std=1, verbose=True, step = 0.001)"
   ]
  },
  {
   "cell_type": "code",
   "execution_count": 97,
   "metadata": {
    "collapsed": true
   },
   "outputs": [],
   "source": [
    "grnnet.train(x_train, y_train)"
   ]
  },
  {
   "cell_type": "code",
   "execution_count": 98,
   "metadata": {
    "collapsed": true
   },
   "outputs": [],
   "source": [
    "y_predicted = grnnet.predict(x_test).astype(int)"
   ]
  },
  {
   "cell_type": "code",
   "execution_count": 99,
   "metadata": {},
   "outputs": [
    {
     "data": {
      "text/plain": [
       "array([[6],\n",
       "       [6],\n",
       "       [6],\n",
       "       ..., \n",
       "       [5],\n",
       "       [7],\n",
       "       [4]])"
      ]
     },
     "execution_count": 99,
     "metadata": {},
     "output_type": "execute_result"
    }
   ],
   "source": [
    "y_predicted"
   ]
  },
  {
   "cell_type": "code",
   "execution_count": 100,
   "metadata": {},
   "outputs": [
    {
     "name": "stdout",
     "output_type": "stream",
     "text": [
      "[[  0   0   3   1   0   0   0]\n",
      " [  0  12  20   4   2   0   0]\n",
      " [  0  25 290  46   1   0   0]\n",
      " [  0   9 266 281  15   3   0]\n",
      " [  0   3  31 122  40   2   0]\n",
      " [  0   0   1  19  26   0   0]\n",
      " [  0   0   1   1   1   0   0]]\n"
     ]
    }
   ],
   "source": [
    "print(confusion_matrix(y_test,y_predicted))"
   ]
  },
  {
   "cell_type": "code",
   "execution_count": 101,
   "metadata": {},
   "outputs": [
    {
     "name": "stdout",
     "output_type": "stream",
     "text": [
      "             precision    recall  f1-score   support\n",
      "\n",
      "          3       0.00      0.00      0.00         4\n",
      "          4       0.24      0.32      0.28        38\n",
      "          5       0.47      0.80      0.60       362\n",
      "          6       0.59      0.49      0.54       574\n",
      "          7       0.47      0.20      0.28       198\n",
      "          8       0.00      0.00      0.00        46\n",
      "          9       0.00      0.00      0.00         3\n",
      "\n",
      "avg / total       0.50      0.51      0.48      1225\n",
      "\n"
     ]
    }
   ],
   "source": [
    "print(classification_report(y_test,y_predicted))"
   ]
  },
  {
   "cell_type": "code",
   "execution_count": 102,
   "metadata": {},
   "outputs": [
    {
     "name": "stdout",
     "output_type": "stream",
     "text": [
      "Validation accuracy: 50.86%\n"
     ]
    }
   ],
   "source": [
    "score = accuracy_score(y_test, y_predicted)\n",
    "print(\"Validation accuracy: {:.2%}\".format(score))"
   ]
  },
  {
   "cell_type": "code",
   "execution_count": 103,
   "metadata": {},
   "outputs": [
    {
     "name": "stdout",
     "output_type": "stream",
     "text": [
      "MSE: 72.98%\n"
     ]
    }
   ],
   "source": [
    "mse = mean_squared_error(y_test, pd.DataFrame(y_predicted))\n",
    "print(\"MSE: {:.2%}\".format(mse))"
   ]
  },
  {
   "cell_type": "code",
   "execution_count": 104,
   "metadata": {
    "collapsed": true
   },
   "outputs": [],
   "source": [
    "y_GRNN2 = pd.DataFrame(y_predicted)\n",
    "y_GRNN2.to_excel('y_GRNN2.xlsx')"
   ]
  }
 ],
 "metadata": {
  "kernelspec": {
   "display_name": "Python 3",
   "language": "python",
   "name": "python3"
  },
  "language_info": {
   "codemirror_mode": {
    "name": "ipython",
    "version": 3
   },
   "file_extension": ".py",
   "mimetype": "text/x-python",
   "name": "python",
   "nbconvert_exporter": "python",
   "pygments_lexer": "ipython3",
   "version": "3.6.2"
  }
 },
 "nbformat": 4,
 "nbformat_minor": 2
}
